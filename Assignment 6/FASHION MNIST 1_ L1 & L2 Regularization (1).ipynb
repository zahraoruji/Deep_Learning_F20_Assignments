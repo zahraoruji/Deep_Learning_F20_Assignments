{
 "cells": [
  {
   "cell_type": "markdown",
   "metadata": {},
   "source": [
    "# Assignment Set 2\n",
    "by Zahraoruji for Deep Learing Course at Data Science Center, SBU"
   ]
  },
  {
   "cell_type": "code",
   "execution_count": 145,
   "metadata": {},
   "outputs": [],
   "source": [
    "import keras\n",
    "from keras.datasets import fashion_mnist \n",
    "from keras.layers import Dense, Activation, Flatten, Conv2D, MaxPooling2D\n",
    "from keras.models import Sequential\n",
    "from keras.utils import to_categorical\n",
    "import numpy as np\n",
    "import matplotlib.pyplot as plt"
   ]
  },
  {
   "cell_type": "code",
   "execution_count": 146,
   "metadata": {},
   "outputs": [],
   "source": [
    "from tensorflow.keras.datasets import fashion_mnist\n",
    "((trainX, trainY), (testX, testY)) = keras.datasets.fashion_mnist.load_data()"
   ]
  },
  {
   "cell_type": "code",
   "execution_count": 147,
   "metadata": {},
   "outputs": [
    {
     "data": {
      "text/plain": [
       "(60000, 28, 28)"
      ]
     },
     "execution_count": 147,
     "metadata": {},
     "output_type": "execute_result"
    }
   ],
   "source": [
    "trainX.shape"
   ]
  },
  {
   "cell_type": "code",
   "execution_count": 148,
   "metadata": {},
   "outputs": [
    {
     "data": {
      "text/plain": [
       "(60000,)"
      ]
     },
     "execution_count": 148,
     "metadata": {},
     "output_type": "execute_result"
    }
   ],
   "source": [
    "trainY.shape"
   ]
  },
  {
   "cell_type": "code",
   "execution_count": 149,
   "metadata": {},
   "outputs": [],
   "source": [
    "train_X = trainX.reshape(-1, 28,28, 1)\n",
    "test_X = testX.reshape(-1, 28,28, 1)"
   ]
  },
  {
   "cell_type": "code",
   "execution_count": 150,
   "metadata": {},
   "outputs": [
    {
     "data": {
      "text/plain": [
       "(60000, 28, 28, 1)"
      ]
     },
     "execution_count": 150,
     "metadata": {},
     "output_type": "execute_result"
    }
   ],
   "source": [
    "train_X.shape"
   ]
  },
  {
   "cell_type": "code",
   "execution_count": 151,
   "metadata": {},
   "outputs": [],
   "source": [
    "train_X = train_X.astype('float32')\n",
    "test_X = test_X.astype('float32')\n",
    "train_X = trainX / 255\n",
    "test_X = testX / 255"
   ]
  },
  {
   "cell_type": "code",
   "execution_count": 130,
   "metadata": {},
   "outputs": [
    {
     "data": {
      "text/plain": [
       "array([[[0., 0., 0., ..., 0., 0., 0.],\n",
       "        [0., 0., 0., ..., 0., 0., 0.],\n",
       "        [0., 0., 0., ..., 0., 0., 0.],\n",
       "        ...,\n",
       "        [0., 0., 0., ..., 0., 0., 0.],\n",
       "        [0., 0., 0., ..., 0., 0., 0.],\n",
       "        [0., 0., 0., ..., 0., 0., 0.]],\n",
       "\n",
       "       [[0., 0., 0., ..., 0., 0., 0.],\n",
       "        [0., 0., 0., ..., 0., 0., 0.],\n",
       "        [0., 0., 0., ..., 0., 0., 0.],\n",
       "        ...,\n",
       "        [0., 0., 0., ..., 0., 0., 0.],\n",
       "        [0., 0., 0., ..., 0., 0., 0.],\n",
       "        [0., 0., 0., ..., 0., 0., 0.]],\n",
       "\n",
       "       [[0., 0., 0., ..., 0., 0., 0.],\n",
       "        [0., 0., 0., ..., 0., 0., 0.],\n",
       "        [0., 0., 0., ..., 0., 0., 0.],\n",
       "        ...,\n",
       "        [0., 0., 0., ..., 0., 0., 0.],\n",
       "        [0., 0., 0., ..., 0., 0., 0.],\n",
       "        [0., 0., 0., ..., 0., 0., 0.]],\n",
       "\n",
       "       ...,\n",
       "\n",
       "       [[0., 0., 0., ..., 0., 0., 0.],\n",
       "        [0., 0., 0., ..., 0., 0., 0.],\n",
       "        [0., 0., 0., ..., 0., 0., 0.],\n",
       "        ...,\n",
       "        [0., 0., 0., ..., 0., 0., 0.],\n",
       "        [0., 0., 0., ..., 0., 0., 0.],\n",
       "        [0., 0., 0., ..., 0., 0., 0.]],\n",
       "\n",
       "       [[0., 0., 0., ..., 0., 0., 0.],\n",
       "        [0., 0., 0., ..., 0., 0., 0.],\n",
       "        [0., 0., 0., ..., 0., 0., 0.],\n",
       "        ...,\n",
       "        [0., 0., 0., ..., 0., 0., 0.],\n",
       "        [0., 0., 0., ..., 0., 0., 0.],\n",
       "        [0., 0., 0., ..., 0., 0., 0.]],\n",
       "\n",
       "       [[0., 0., 0., ..., 0., 0., 0.],\n",
       "        [0., 0., 0., ..., 0., 0., 0.],\n",
       "        [0., 0., 0., ..., 0., 0., 0.],\n",
       "        ...,\n",
       "        [0., 0., 0., ..., 0., 0., 0.],\n",
       "        [0., 0., 0., ..., 0., 0., 0.],\n",
       "        [0., 0., 0., ..., 0., 0., 0.]]])"
      ]
     },
     "execution_count": 130,
     "metadata": {},
     "output_type": "execute_result"
    }
   ],
   "source": [
    "train_X"
   ]
  },
  {
   "cell_type": "code",
   "execution_count": 152,
   "metadata": {},
   "outputs": [],
   "source": [
    "train_Y_one_hot = to_categorical(trainY)\n",
    "test_Y_one_hot = to_categorical(testY)"
   ]
  },
  {
   "cell_type": "markdown",
   "metadata": {},
   "source": [
    "# L1 Regularization"
   ]
  },
  {
   "cell_type": "code",
   "execution_count": 98,
   "metadata": {},
   "outputs": [],
   "source": [
    "model = keras.models.Sequential([\n",
    "    keras.layers.Flatten(input_shape=[28,28]),\n",
    "    keras.layers.Dense(200, activation='relu', kernel_regularizer=keras.regularizers.l1(1e-5)),\n",
    "    keras.layers.Dense(100, activation='relu', kernel_regularizer=keras.regularizers.l1(1e-5)),\n",
    "    keras.layers.Dense(50, activation='relu', kernel_regularizer=keras.regularizers.l1(1e-5)),\n",
    "    keras.layers.Dense(10, activation='softmax')\n",
    "])\n",
    "model.compile(loss=keras.losses.SparseCategoricalCrossentropy(from_logits=True),\n",
    "            optimizer='Adam',\n",
    "            metrics=['accuracy'])"
   ]
  },
  {
   "cell_type": "code",
   "execution_count": 99,
   "metadata": {},
   "outputs": [
    {
     "name": "stdout",
     "output_type": "stream",
     "text": [
      "Epoch 1/10\n",
      "938/938 [==============================] - 3s 3ms/step - loss: 1.7463 - accuracy: 0.7855\n",
      "Epoch 2/10\n",
      "938/938 [==============================] - 4s 4ms/step - loss: 1.6882 - accuracy: 0.8314\n",
      "Epoch 3/10\n",
      "938/938 [==============================] - 3s 3ms/step - loss: 1.6738 - accuracy: 0.8419\n",
      "Epoch 4/10\n",
      "938/938 [==============================] - 3s 3ms/step - loss: 1.6626 - accuracy: 0.8500\n",
      "Epoch 5/10\n",
      "938/938 [==============================] - 3s 3ms/step - loss: 1.6549 - accuracy: 0.8545\n",
      "Epoch 6/10\n",
      "938/938 [==============================] - 5s 5ms/step - loss: 1.6466 - accuracy: 0.8598\n",
      "Epoch 7/10\n",
      "938/938 [==============================] - 5s 5ms/step - loss: 1.6426 - accuracy: 0.8612\n",
      "Epoch 8/10\n",
      "938/938 [==============================] - 4s 5ms/step - loss: 1.6358 - accuracy: 0.8657\n",
      "Epoch 9/10\n",
      "938/938 [==============================] - 4s 5ms/step - loss: 1.6327 - accuracy: 0.8670\n",
      "Epoch 10/10\n",
      "938/938 [==============================] - 4s 5ms/step - loss: 1.6295 - accuracy: 0.8686\n"
     ]
    },
    {
     "data": {
      "text/plain": [
       "<tensorflow.python.keras.callbacks.History at 0x17ba92aae50>"
      ]
     },
     "execution_count": 99,
     "metadata": {},
     "output_type": "execute_result"
    }
   ],
   "source": [
    "model.fit(train_X, trainY , batch_size=64, epochs=10)"
   ]
  },
  {
   "cell_type": "code",
   "execution_count": 100,
   "metadata": {},
   "outputs": [
    {
     "name": "stdout",
     "output_type": "stream",
     "text": [
      "313/313 [==============================] - 1s 2ms/step - loss: 1.6416 - accuracy: 0.8553\n",
      "Test loss 1.6415791511535645\n",
      "Test accuracy 0.8553000092506409\n"
     ]
    }
   ],
   "source": [
    "test_loss, test_acc = model.evaluate(test_X, testY)\n",
    "print('Test loss', test_loss)\n",
    "print('Test accuracy', test_acc)"
   ]
  },
  {
   "cell_type": "markdown",
   "metadata": {},
   "source": [
    "# L2 Regularization"
   ]
  },
  {
   "cell_type": "code",
   "execution_count": 153,
   "metadata": {},
   "outputs": [],
   "source": [
    "model = keras.models.Sequential([\n",
    "    keras.layers.Flatten(input_shape=[28,28]),\n",
    "    keras.layers.Dense(200, activation='relu', kernel_regularizer=keras.regularizers.l2(1e-5)),\n",
    "    keras.layers.Dense(100, activation='relu', kernel_regularizer=keras.regularizers.l2(1e-5)),\n",
    "    keras.layers.Dense(50, activation='relu', kernel_regularizer=keras.regularizers.l2(1e-5)),\n",
    "    keras.layers.Dense(10, activation='softmax')\n",
    "])\n",
    "model.compile(loss=keras.losses.SparseCategoricalCrossentropy(from_logits=True),\n",
    "            optimizer='Adam',\n",
    "            metrics=['accuracy'])"
   ]
  },
  {
   "cell_type": "code",
   "execution_count": 154,
   "metadata": {},
   "outputs": [
    {
     "name": "stdout",
     "output_type": "stream",
     "text": [
      "Epoch 1/10\n",
      "938/938 [==============================] - 3s 4ms/step - loss: 1.8053 - accuracy: 0.6635\n",
      "Epoch 2/10\n",
      "938/938 [==============================] - 3s 3ms/step - loss: 1.7735 - accuracy: 0.6935\n",
      "Epoch 3/10\n",
      "938/938 [==============================] - 3s 3ms/step - loss: 1.7666 - accuracy: 0.7011\n",
      "Epoch 4/10\n",
      "938/938 [==============================] - 3s 3ms/step - loss: 1.7424 - accuracy: 0.7256\n",
      "Epoch 5/10\n",
      "938/938 [==============================] - 3s 3ms/step - loss: 1.7080 - accuracy: 0.7610\n",
      "Epoch 6/10\n",
      "938/938 [==============================] - 3s 3ms/step - loss: 1.6979 - accuracy: 0.7708\n",
      "Epoch 7/10\n",
      "938/938 [==============================] - 3s 3ms/step - loss: 1.6931 - accuracy: 0.7757\n",
      "Epoch 8/10\n",
      "938/938 [==============================] - 3s 3ms/step - loss: 1.6906 - accuracy: 0.7783\n",
      "Epoch 9/10\n",
      "938/938 [==============================] - 3s 3ms/step - loss: 1.6867 - accuracy: 0.7822\n",
      "Epoch 10/10\n",
      "938/938 [==============================] - 3s 3ms/step - loss: 1.6046 - accuracy: 0.8670\n"
     ]
    },
    {
     "data": {
      "text/plain": [
       "<tensorflow.python.keras.callbacks.History at 0x17ba796e070>"
      ]
     },
     "execution_count": 154,
     "metadata": {},
     "output_type": "execute_result"
    }
   ],
   "source": [
    "model.fit(train_X, trainY , batch_size=64, epochs=10)"
   ]
  },
  {
   "cell_type": "code",
   "execution_count": 155,
   "metadata": {},
   "outputs": [
    {
     "name": "stdout",
     "output_type": "stream",
     "text": [
      "313/313 [==============================] - 0s 1ms/step - loss: 1.6265 - accuracy: 0.8440\n",
      "Test loss 1.6264992952346802\n",
      "Test accuracy 0.843999981880188\n"
     ]
    }
   ],
   "source": [
    "test_loss, test_acc = model.evaluate(test_X, testY)\n",
    "print('Test loss', test_loss)\n",
    "print('Test accuracy', test_acc)"
   ]
  },
  {
   "cell_type": "code",
   "execution_count": null,
   "metadata": {},
   "outputs": [],
   "source": []
  }
 ],
 "metadata": {
  "kernelspec": {
   "display_name": "Python 3",
   "language": "python",
   "name": "python3"
  },
  "language_info": {
   "codemirror_mode": {
    "name": "ipython",
    "version": 3
   },
   "file_extension": ".py",
   "mimetype": "text/x-python",
   "name": "python",
   "nbconvert_exporter": "python",
   "pygments_lexer": "ipython3",
   "version": "3.8.6rc1"
  }
 },
 "nbformat": 4,
 "nbformat_minor": 4
}
