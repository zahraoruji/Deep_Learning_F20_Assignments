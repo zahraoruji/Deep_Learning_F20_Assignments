{
  "nbformat": 4,
  "nbformat_minor": 0,
  "metadata": {
    "colab": {
      "name": "Assignment 7.ipynb",
      "provenance": [],
      "authorship_tag": "ABX9TyOj2XCnSJl9n7zt+fT/C7cg",
      "include_colab_link": true
    },
    "kernelspec": {
      "name": "python3",
      "display_name": "Python 3"
    },
    "widgets": {
      "application/vnd.jupyter.widget-state+json": {
        "6aae4e74318a42fbb105ea58e74fed10": {
          "model_module": "@jupyter-widgets/controls",
          "model_name": "HBoxModel",
          "state": {
            "_view_name": "HBoxView",
            "_dom_classes": [],
            "_model_name": "HBoxModel",
            "_view_module": "@jupyter-widgets/controls",
            "_model_module_version": "1.5.0",
            "_view_count": null,
            "_view_module_version": "1.5.0",
            "box_style": "",
            "layout": "IPY_MODEL_4f01314b7ee74e03a928b7210fc16d6d",
            "_model_module": "@jupyter-widgets/controls",
            "children": [
              "IPY_MODEL_60dc9daffef544ff97afc11d6fa65c7d",
              "IPY_MODEL_af7553e766b942b38a8ed59c91846a38"
            ]
          }
        },
        "4f01314b7ee74e03a928b7210fc16d6d": {
          "model_module": "@jupyter-widgets/base",
          "model_name": "LayoutModel",
          "state": {
            "_view_name": "LayoutView",
            "grid_template_rows": null,
            "right": null,
            "justify_content": null,
            "_view_module": "@jupyter-widgets/base",
            "overflow": null,
            "_model_module_version": "1.2.0",
            "_view_count": null,
            "flex_flow": null,
            "width": null,
            "min_width": null,
            "border": null,
            "align_items": null,
            "bottom": null,
            "_model_module": "@jupyter-widgets/base",
            "top": null,
            "grid_column": null,
            "overflow_y": null,
            "overflow_x": null,
            "grid_auto_flow": null,
            "grid_area": null,
            "grid_template_columns": null,
            "flex": null,
            "_model_name": "LayoutModel",
            "justify_items": null,
            "grid_row": null,
            "max_height": null,
            "align_content": null,
            "visibility": null,
            "align_self": null,
            "height": null,
            "min_height": null,
            "padding": null,
            "grid_auto_rows": null,
            "grid_gap": null,
            "max_width": null,
            "order": null,
            "_view_module_version": "1.2.0",
            "grid_template_areas": null,
            "object_position": null,
            "object_fit": null,
            "grid_auto_columns": null,
            "margin": null,
            "display": null,
            "left": null
          }
        },
        "60dc9daffef544ff97afc11d6fa65c7d": {
          "model_module": "@jupyter-widgets/controls",
          "model_name": "FloatProgressModel",
          "state": {
            "_view_name": "ProgressView",
            "style": "IPY_MODEL_36a4a4cd9f3948b895837e9fcc879f6a",
            "_dom_classes": [],
            "description": "",
            "_model_name": "FloatProgressModel",
            "bar_style": "info",
            "max": 1,
            "_view_module": "@jupyter-widgets/controls",
            "_model_module_version": "1.5.0",
            "value": 1,
            "_view_count": null,
            "_view_module_version": "1.5.0",
            "orientation": "horizontal",
            "min": 0,
            "description_tooltip": null,
            "_model_module": "@jupyter-widgets/controls",
            "layout": "IPY_MODEL_f3b5b8ae2b8c4f33a10f8de195740f8b"
          }
        },
        "af7553e766b942b38a8ed59c91846a38": {
          "model_module": "@jupyter-widgets/controls",
          "model_name": "HTMLModel",
          "state": {
            "_view_name": "HTMLView",
            "style": "IPY_MODEL_be562b02f9f14abdb00778049b6e9082",
            "_dom_classes": [],
            "description": "",
            "_model_name": "HTMLModel",
            "placeholder": "​",
            "_view_module": "@jupyter-widgets/controls",
            "_model_module_version": "1.5.0",
            "value": " 170500096/? [00:19&lt;00:00, 76305279.43it/s]",
            "_view_count": null,
            "_view_module_version": "1.5.0",
            "description_tooltip": null,
            "_model_module": "@jupyter-widgets/controls",
            "layout": "IPY_MODEL_9f8d0e96c51b4b97b9971a8e442034a5"
          }
        },
        "36a4a4cd9f3948b895837e9fcc879f6a": {
          "model_module": "@jupyter-widgets/controls",
          "model_name": "ProgressStyleModel",
          "state": {
            "_view_name": "StyleView",
            "_model_name": "ProgressStyleModel",
            "description_width": "initial",
            "_view_module": "@jupyter-widgets/base",
            "_model_module_version": "1.5.0",
            "_view_count": null,
            "_view_module_version": "1.2.0",
            "bar_color": null,
            "_model_module": "@jupyter-widgets/controls"
          }
        },
        "f3b5b8ae2b8c4f33a10f8de195740f8b": {
          "model_module": "@jupyter-widgets/base",
          "model_name": "LayoutModel",
          "state": {
            "_view_name": "LayoutView",
            "grid_template_rows": null,
            "right": null,
            "justify_content": null,
            "_view_module": "@jupyter-widgets/base",
            "overflow": null,
            "_model_module_version": "1.2.0",
            "_view_count": null,
            "flex_flow": null,
            "width": null,
            "min_width": null,
            "border": null,
            "align_items": null,
            "bottom": null,
            "_model_module": "@jupyter-widgets/base",
            "top": null,
            "grid_column": null,
            "overflow_y": null,
            "overflow_x": null,
            "grid_auto_flow": null,
            "grid_area": null,
            "grid_template_columns": null,
            "flex": null,
            "_model_name": "LayoutModel",
            "justify_items": null,
            "grid_row": null,
            "max_height": null,
            "align_content": null,
            "visibility": null,
            "align_self": null,
            "height": null,
            "min_height": null,
            "padding": null,
            "grid_auto_rows": null,
            "grid_gap": null,
            "max_width": null,
            "order": null,
            "_view_module_version": "1.2.0",
            "grid_template_areas": null,
            "object_position": null,
            "object_fit": null,
            "grid_auto_columns": null,
            "margin": null,
            "display": null,
            "left": null
          }
        },
        "be562b02f9f14abdb00778049b6e9082": {
          "model_module": "@jupyter-widgets/controls",
          "model_name": "DescriptionStyleModel",
          "state": {
            "_view_name": "StyleView",
            "_model_name": "DescriptionStyleModel",
            "description_width": "",
            "_view_module": "@jupyter-widgets/base",
            "_model_module_version": "1.5.0",
            "_view_count": null,
            "_view_module_version": "1.2.0",
            "_model_module": "@jupyter-widgets/controls"
          }
        },
        "9f8d0e96c51b4b97b9971a8e442034a5": {
          "model_module": "@jupyter-widgets/base",
          "model_name": "LayoutModel",
          "state": {
            "_view_name": "LayoutView",
            "grid_template_rows": null,
            "right": null,
            "justify_content": null,
            "_view_module": "@jupyter-widgets/base",
            "overflow": null,
            "_model_module_version": "1.2.0",
            "_view_count": null,
            "flex_flow": null,
            "width": null,
            "min_width": null,
            "border": null,
            "align_items": null,
            "bottom": null,
            "_model_module": "@jupyter-widgets/base",
            "top": null,
            "grid_column": null,
            "overflow_y": null,
            "overflow_x": null,
            "grid_auto_flow": null,
            "grid_area": null,
            "grid_template_columns": null,
            "flex": null,
            "_model_name": "LayoutModel",
            "justify_items": null,
            "grid_row": null,
            "max_height": null,
            "align_content": null,
            "visibility": null,
            "align_self": null,
            "height": null,
            "min_height": null,
            "padding": null,
            "grid_auto_rows": null,
            "grid_gap": null,
            "max_width": null,
            "order": null,
            "_view_module_version": "1.2.0",
            "grid_template_areas": null,
            "object_position": null,
            "object_fit": null,
            "grid_auto_columns": null,
            "margin": null,
            "display": null,
            "left": null
          }
        },
        "e879fac07f8440a3a6d896929170e78f": {
          "model_module": "@jupyter-widgets/controls",
          "model_name": "HBoxModel",
          "state": {
            "_view_name": "HBoxView",
            "_dom_classes": [],
            "_model_name": "HBoxModel",
            "_view_module": "@jupyter-widgets/controls",
            "_model_module_version": "1.5.0",
            "_view_count": null,
            "_view_module_version": "1.5.0",
            "box_style": "",
            "layout": "IPY_MODEL_6659dec070af419a8f3c0d8cb3aa32d0",
            "_model_module": "@jupyter-widgets/controls",
            "children": [
              "IPY_MODEL_905c678dec4b4d4ca702ad9043a68858",
              "IPY_MODEL_75aeedf0dcff42d1844321cc714a5b0e"
            ]
          }
        },
        "6659dec070af419a8f3c0d8cb3aa32d0": {
          "model_module": "@jupyter-widgets/base",
          "model_name": "LayoutModel",
          "state": {
            "_view_name": "LayoutView",
            "grid_template_rows": null,
            "right": null,
            "justify_content": null,
            "_view_module": "@jupyter-widgets/base",
            "overflow": null,
            "_model_module_version": "1.2.0",
            "_view_count": null,
            "flex_flow": null,
            "width": null,
            "min_width": null,
            "border": null,
            "align_items": null,
            "bottom": null,
            "_model_module": "@jupyter-widgets/base",
            "top": null,
            "grid_column": null,
            "overflow_y": null,
            "overflow_x": null,
            "grid_auto_flow": null,
            "grid_area": null,
            "grid_template_columns": null,
            "flex": null,
            "_model_name": "LayoutModel",
            "justify_items": null,
            "grid_row": null,
            "max_height": null,
            "align_content": null,
            "visibility": null,
            "align_self": null,
            "height": null,
            "min_height": null,
            "padding": null,
            "grid_auto_rows": null,
            "grid_gap": null,
            "max_width": null,
            "order": null,
            "_view_module_version": "1.2.0",
            "grid_template_areas": null,
            "object_position": null,
            "object_fit": null,
            "grid_auto_columns": null,
            "margin": null,
            "display": null,
            "left": null
          }
        },
        "905c678dec4b4d4ca702ad9043a68858": {
          "model_module": "@jupyter-widgets/controls",
          "model_name": "FloatProgressModel",
          "state": {
            "_view_name": "ProgressView",
            "style": "IPY_MODEL_f645f6e2d1d046198b576fc250b4fbb3",
            "_dom_classes": [],
            "description": "",
            "_model_name": "FloatProgressModel",
            "bar_style": "info",
            "max": 1,
            "_view_module": "@jupyter-widgets/controls",
            "_model_module_version": "1.5.0",
            "value": 1,
            "_view_count": null,
            "_view_module_version": "1.5.0",
            "orientation": "horizontal",
            "min": 0,
            "description_tooltip": null,
            "_model_module": "@jupyter-widgets/controls",
            "layout": "IPY_MODEL_fc85c5d76bbd4828964f1ec5837d3a1e"
          }
        },
        "75aeedf0dcff42d1844321cc714a5b0e": {
          "model_module": "@jupyter-widgets/controls",
          "model_name": "HTMLModel",
          "state": {
            "_view_name": "HTMLView",
            "style": "IPY_MODEL_00449ece3cda4447a434d965d2c97aef",
            "_dom_classes": [],
            "description": "",
            "_model_name": "HTMLModel",
            "placeholder": "​",
            "_view_module": "@jupyter-widgets/controls",
            "_model_module_version": "1.5.0",
            "value": " 170500096/? [00:14&lt;00:00, 82930012.95it/s]",
            "_view_count": null,
            "_view_module_version": "1.5.0",
            "description_tooltip": null,
            "_model_module": "@jupyter-widgets/controls",
            "layout": "IPY_MODEL_77e27624980a4e1ead90369cca433b08"
          }
        },
        "f645f6e2d1d046198b576fc250b4fbb3": {
          "model_module": "@jupyter-widgets/controls",
          "model_name": "ProgressStyleModel",
          "state": {
            "_view_name": "StyleView",
            "_model_name": "ProgressStyleModel",
            "description_width": "initial",
            "_view_module": "@jupyter-widgets/base",
            "_model_module_version": "1.5.0",
            "_view_count": null,
            "_view_module_version": "1.2.0",
            "bar_color": null,
            "_model_module": "@jupyter-widgets/controls"
          }
        },
        "fc85c5d76bbd4828964f1ec5837d3a1e": {
          "model_module": "@jupyter-widgets/base",
          "model_name": "LayoutModel",
          "state": {
            "_view_name": "LayoutView",
            "grid_template_rows": null,
            "right": null,
            "justify_content": null,
            "_view_module": "@jupyter-widgets/base",
            "overflow": null,
            "_model_module_version": "1.2.0",
            "_view_count": null,
            "flex_flow": null,
            "width": null,
            "min_width": null,
            "border": null,
            "align_items": null,
            "bottom": null,
            "_model_module": "@jupyter-widgets/base",
            "top": null,
            "grid_column": null,
            "overflow_y": null,
            "overflow_x": null,
            "grid_auto_flow": null,
            "grid_area": null,
            "grid_template_columns": null,
            "flex": null,
            "_model_name": "LayoutModel",
            "justify_items": null,
            "grid_row": null,
            "max_height": null,
            "align_content": null,
            "visibility": null,
            "align_self": null,
            "height": null,
            "min_height": null,
            "padding": null,
            "grid_auto_rows": null,
            "grid_gap": null,
            "max_width": null,
            "order": null,
            "_view_module_version": "1.2.0",
            "grid_template_areas": null,
            "object_position": null,
            "object_fit": null,
            "grid_auto_columns": null,
            "margin": null,
            "display": null,
            "left": null
          }
        },
        "00449ece3cda4447a434d965d2c97aef": {
          "model_module": "@jupyter-widgets/controls",
          "model_name": "DescriptionStyleModel",
          "state": {
            "_view_name": "StyleView",
            "_model_name": "DescriptionStyleModel",
            "description_width": "",
            "_view_module": "@jupyter-widgets/base",
            "_model_module_version": "1.5.0",
            "_view_count": null,
            "_view_module_version": "1.2.0",
            "_model_module": "@jupyter-widgets/controls"
          }
        },
        "77e27624980a4e1ead90369cca433b08": {
          "model_module": "@jupyter-widgets/base",
          "model_name": "LayoutModel",
          "state": {
            "_view_name": "LayoutView",
            "grid_template_rows": null,
            "right": null,
            "justify_content": null,
            "_view_module": "@jupyter-widgets/base",
            "overflow": null,
            "_model_module_version": "1.2.0",
            "_view_count": null,
            "flex_flow": null,
            "width": null,
            "min_width": null,
            "border": null,
            "align_items": null,
            "bottom": null,
            "_model_module": "@jupyter-widgets/base",
            "top": null,
            "grid_column": null,
            "overflow_y": null,
            "overflow_x": null,
            "grid_auto_flow": null,
            "grid_area": null,
            "grid_template_columns": null,
            "flex": null,
            "_model_name": "LayoutModel",
            "justify_items": null,
            "grid_row": null,
            "max_height": null,
            "align_content": null,
            "visibility": null,
            "align_self": null,
            "height": null,
            "min_height": null,
            "padding": null,
            "grid_auto_rows": null,
            "grid_gap": null,
            "max_width": null,
            "order": null,
            "_view_module_version": "1.2.0",
            "grid_template_areas": null,
            "object_position": null,
            "object_fit": null,
            "grid_auto_columns": null,
            "margin": null,
            "display": null,
            "left": null
          }
        }
      }
    }
  },
  "cells": [
    {
      "cell_type": "markdown",
      "metadata": {
        "id": "view-in-github",
        "colab_type": "text"
      },
      "source": [
        "<a href=\"https://colab.research.google.com/github/zahraoruji/Deep_Learning_F20_Assignments/blob/master/Assignment_7.ipynb\" target=\"_parent\"><img src=\"https://colab.research.google.com/assets/colab-badge.svg\" alt=\"Open In Colab\"/></a>"
      ]
    },
    {
      "cell_type": "markdown",
      "metadata": {
        "id": "-oJdZn4IDb-Z"
      },
      "source": [
        "Assignment Set 7 by [zahraoruji] for [Deep Learing/Applied Machine Learning] Course at Data Science Center, SBU\n",
        "\n"
      ]
    },
    {
      "cell_type": "code",
      "metadata": {
        "id": "7dmyYsKl6QoV"
      },
      "source": [
        "import torch\n",
        "import torchvision\n",
        "import torchvision.transforms as transforms"
      ],
      "execution_count": 1,
      "outputs": []
    },
    {
      "cell_type": "code",
      "metadata": {
        "id": "qGYeHAXK6azL",
        "outputId": "8bc31621-43a3-4959-a89b-95b80afdd3dc",
        "colab": {
          "base_uri": "https://localhost:8080/",
          "height": 148,
          "referenced_widgets": [
            "6aae4e74318a42fbb105ea58e74fed10",
            "4f01314b7ee74e03a928b7210fc16d6d",
            "60dc9daffef544ff97afc11d6fa65c7d",
            "af7553e766b942b38a8ed59c91846a38",
            "36a4a4cd9f3948b895837e9fcc879f6a",
            "f3b5b8ae2b8c4f33a10f8de195740f8b",
            "be562b02f9f14abdb00778049b6e9082",
            "9f8d0e96c51b4b97b9971a8e442034a5",
            "e879fac07f8440a3a6d896929170e78f",
            "6659dec070af419a8f3c0d8cb3aa32d0",
            "905c678dec4b4d4ca702ad9043a68858",
            "75aeedf0dcff42d1844321cc714a5b0e",
            "f645f6e2d1d046198b576fc250b4fbb3",
            "fc85c5d76bbd4828964f1ec5837d3a1e",
            "00449ece3cda4447a434d965d2c97aef",
            "77e27624980a4e1ead90369cca433b08"
          ]
        }
      },
      "source": [
        "transform = transforms.Compose(\n",
        "    [transforms.ToTensor(),\n",
        "     transforms.Normalize((0.5, 0.5, 0.5), (0.5, 0.5, 0.5))])\n",
        "\n",
        "trainset = torchvision.datasets.CIFAR10(root='/home/CIFAR-10 Classifier Using CNN in PyTorch/data/', \n",
        "                                        train=True,\n",
        "                                        download=True, \n",
        "                                        transform=transform)\n",
        "trainloader = torch.utils.data.DataLoader(trainset, \n",
        "                                          batch_size=4,\n",
        "                                          shuffle=True)\n",
        "\n",
        "testset = torchvision.datasets.CIFAR10(root='./data', \n",
        "                                       train=False,\n",
        "                                       download=True, \n",
        "                                       transform=transform)\n",
        "testloader = torch.utils.data.DataLoader(testset, \n",
        "                                         batch_size=4,\n",
        "                                         shuffle=False)\n",
        "\n",
        "classes = ('plane', 'car', 'bird', 'cat', 'deer', \n",
        "           'dog', 'frog', 'horse', 'ship', 'truck')"
      ],
      "execution_count": 2,
      "outputs": [
        {
          "output_type": "stream",
          "text": [
            "Downloading https://www.cs.toronto.edu/~kriz/cifar-10-python.tar.gz to /home/CIFAR-10 Classifier Using CNN in PyTorch/data/cifar-10-python.tar.gz\n"
          ],
          "name": "stdout"
        },
        {
          "output_type": "display_data",
          "data": {
            "application/vnd.jupyter.widget-view+json": {
              "model_id": "6aae4e74318a42fbb105ea58e74fed10",
              "version_minor": 0,
              "version_major": 2
            },
            "text/plain": [
              "HBox(children=(FloatProgress(value=1.0, bar_style='info', max=1.0), HTML(value='')))"
            ]
          },
          "metadata": {
            "tags": []
          }
        },
        {
          "output_type": "stream",
          "text": [
            "Extracting /home/CIFAR-10 Classifier Using CNN in PyTorch/data/cifar-10-python.tar.gz to /home/CIFAR-10 Classifier Using CNN in PyTorch/data/\n",
            "Downloading https://www.cs.toronto.edu/~kriz/cifar-10-python.tar.gz to ./data/cifar-10-python.tar.gz\n"
          ],
          "name": "stdout"
        },
        {
          "output_type": "display_data",
          "data": {
            "application/vnd.jupyter.widget-view+json": {
              "model_id": "e879fac07f8440a3a6d896929170e78f",
              "version_minor": 0,
              "version_major": 2
            },
            "text/plain": [
              "HBox(children=(FloatProgress(value=1.0, bar_style='info', max=1.0), HTML(value='')))"
            ]
          },
          "metadata": {
            "tags": []
          }
        },
        {
          "output_type": "stream",
          "text": [
            "Extracting ./data/cifar-10-python.tar.gz to ./data\n"
          ],
          "name": "stdout"
        }
      ]
    },
    {
      "cell_type": "code",
      "metadata": {
        "id": "X7WCZTS76a-f",
        "outputId": "575bdf97-9380-4fee-a9a7-6dbc8ab032bc",
        "colab": {
          "base_uri": "https://localhost:8080/",
          "height": 186
        }
      },
      "source": [
        "import matplotlib.pyplot as plt\n",
        "import numpy as np\n",
        "\n",
        "def convert_to_imshow_format(image):\n",
        "    # first convert back to [0,1] range from [-1,1] range\n",
        "    image = image / 2 + 0.5\n",
        "    image = image.numpy()\n",
        "    # convert from CHW to HWC\n",
        "    # from 3x32x32 to 32x32x3\n",
        "    return image.transpose(1,2,0)\n",
        "\n",
        "dataiter = iter(trainloader)\n",
        "images, labels = dataiter.next()\n",
        "\n",
        "fig, axes = plt.subplots(1, len(images), figsize=(12,2.5))\n",
        "for idx, image in enumerate(images):\n",
        "    axes[idx].imshow(convert_to_imshow_format(image))\n",
        "    axes[idx].set_title(classes[labels[idx]])\n",
        "    axes[idx].set_xticks([])\n",
        "    axes[idx].set_yticks([])"
      ],
      "execution_count": 3,
      "outputs": [
        {
          "output_type": "display_data",
          "data": {
            "image/png": "[encoded data removed]",
            "text/plain": [
              "<Figure size 864x180 with 4 Axes>"
            ]
          },
          "metadata": {
            "tags": []
          }
        }
      ]
    },
    {
      "cell_type": "code",
      "metadata": {
        "id": "CYyqThNPB-3W"
      },
      "source": [
        "import torch.nn as nn\n",
        "import torch.nn.functional as F\n",
        "\n",
        "class Net(nn.Module):\n",
        "    def __init__(self):\n",
        "        super(Net, self).__init__()\n",
        "        self.conv1 = nn.Conv2d(3, 6, 5)\n",
        "        self.pool = nn.MaxPool2d(2, 2)\n",
        "        self.conv2 = nn.Conv2d(6, 16, 5)\n",
        "        self.fc1 = nn.Linear(16 * 5 * 5, 120)\n",
        "        self.fc2 = nn.Linear(120, 84)\n",
        "        self.fc3 = nn.Linear(84, 10)\n",
        "\n",
        "    def forward(self, x):\n",
        "        x = self.pool(F.relu(self.conv1(x)))\n",
        "        x = self.pool(F.relu(self.conv2(x)))\n",
        "        x = x.view(-1, 16 * 5 * 5)\n",
        "        x = F.relu(self.fc1(x))\n",
        "        x = F.relu(self.fc2(x))\n",
        "        x = self.fc3(x)\n",
        "        return x\n",
        "    \n",
        "net = Net()"
      ],
      "execution_count": 4,
      "outputs": []
    },
    {
      "cell_type": "code",
      "metadata": {
        "id": "9S_nx3D7CGXf"
      },
      "source": [
        "import torch.optim as optim\n",
        "\n",
        "criterion = nn.CrossEntropyLoss()\n",
        "optimizer = optim.SGD(net.parameters(), lr=0.001, momentum=0.9)"
      ],
      "execution_count": 5,
      "outputs": []
    },
    {
      "cell_type": "code",
      "metadata": {
        "id": "eZoKc4UECLIt",
        "outputId": "7ac515ba-68f9-41fe-ea30-ad6cd75c1e04",
        "colab": {
          "base_uri": "https://localhost:8080/"
        }
      },
      "source": [
        "import os\n",
        "\n",
        "model_directory_path = '/home/CIFAR-10 Classifier Using CNN in PyTorch/model/'\n",
        "model_path = model_directory_path + 'cifar-10-cnn-model.pt'\n",
        "\n",
        "if not os.path.exists(model_directory_path):\n",
        "    os.makedirs(model_directory_path)\n",
        "\n",
        "if os.path.isfile(model_path):\n",
        "    # load trained model parameters from disk\n",
        "    net.load_state_dict(torch.load(model_path))\n",
        "    print('Loaded model parameters from disk.')\n",
        "else:\n",
        "    for epoch in range(2):  # loop over the dataset multiple times\n",
        "\n",
        "        running_loss = 0.0\n",
        "        for i, data in enumerate(trainloader, 0):\n",
        "            # get the inputs\n",
        "            inputs, labels = data\n",
        "\n",
        "            # zero the parameter gradients\n",
        "            optimizer.zero_grad()\n",
        "\n",
        "            # forward + backward + optimize\n",
        "            outputs = net(inputs)\n",
        "            loss = criterion(outputs, labels)\n",
        "            loss.backward()\n",
        "            optimizer.step()\n",
        "\n",
        "            # print statistics\n",
        "            running_loss += loss.item()\n",
        "            if i % 2000 == 1999:    # print every 2000 mini-batches\n",
        "                print('[%d, %5d] loss: %.3f' %\n",
        "                      (epoch + 1, i + 1, running_loss / 2000))\n",
        "                running_loss = 0.0\n",
        "    print('Finished Training.')\n",
        "    torch.save(net.state_dict(), model_path)\n",
        "    print('Saved model parameters to disk.')"
      ],
      "execution_count": 6,
      "outputs": [
        {
          "output_type": "stream",
          "text": [
            "[1,  2000] loss: 2.249\n",
            "[1,  4000] loss: 1.861\n",
            "[1,  6000] loss: 1.687\n",
            "[1,  8000] loss: 1.577\n",
            "[1, 10000] loss: 1.531\n",
            "[1, 12000] loss: 1.459\n",
            "[2,  2000] loss: 1.410\n",
            "[2,  4000] loss: 1.356\n",
            "[2,  6000] loss: 1.304\n",
            "[2,  8000] loss: 1.306\n",
            "[2, 10000] loss: 1.276\n",
            "[2, 12000] loss: 1.263\n",
            "Finished Training.\n",
            "Saved model parameters to disk.\n"
          ],
          "name": "stdout"
        }
      ]
    },
    {
      "cell_type": "code",
      "metadata": {
        "id": "2Zj06xlRCVlF",
        "outputId": "102e905d-2660-4be6-8f0c-c66e52640487",
        "colab": {
          "base_uri": "https://localhost:8080/",
          "height": 186
        }
      },
      "source": [
        "dataiter = iter(testloader)\n",
        "images, labels = dataiter.next()\n",
        "\n",
        "fig, axes = plt.subplots(1, len(images), figsize=(12,2.5))\n",
        "for idx, image in enumerate(images):\n",
        "    axes[idx].imshow(convert_to_imshow_format(image))\n",
        "    axes[idx].set_title(classes[labels[idx]])\n",
        "    axes[idx].set_xticks([])\n",
        "    axes[idx].set_yticks([])"
      ],
      "execution_count": 7,
      "outputs": [
        {
          "output_type": "display_data",
          "data": {
            "image/png": "[encoded data removed]",
            "text/plain": [
              "<Figure size 864x180 with 4 Axes>"
            ]
          },
          "metadata": {
            "tags": []
          }
        }
      ]
    },
    {
      "cell_type": "code",
      "metadata": {
        "id": "hNAsTRvqCwxv",
        "outputId": "1ccc5d3d-85a4-4abc-b8ba-cd7266a4e5e2",
        "colab": {
          "base_uri": "https://localhost:8080/"
        }
      },
      "source": [
        "outputs = net(images)\n",
        "outputs"
      ],
      "execution_count": 8,
      "outputs": [
        {
          "output_type": "execute_result",
          "data": {
            "text/plain": [
              "tensor([[-0.9884, -3.1108,  2.0284,  2.0974,  0.8899,  0.9691,  1.8130, -2.2152,\n",
              "         -0.7483, -2.5169],\n",
              "        [ 3.5623,  5.5785, -1.9335, -2.7085, -4.9654, -3.9977, -3.8757, -5.1670,\n",
              "          5.2408,  3.4506],\n",
              "        [ 0.6470,  2.3318, -0.4986, -0.8082, -2.1133, -1.2957, -1.6640, -1.8204,\n",
              "          1.3358,  1.5961],\n",
              "        [ 4.1875, -0.1309,  1.4301, -1.3113, -1.0683, -2.6453, -2.2206, -3.0991,\n",
              "          3.2681, -0.4081]], grad_fn=<AddmmBackward>)"
            ]
          },
          "metadata": {
            "tags": []
          },
          "execution_count": 8
        }
      ]
    },
    {
      "cell_type": "code",
      "metadata": {
        "id": "f_cu66OWC10x",
        "outputId": "33ea66d9-486b-4812-9829-ae20c536b23b",
        "colab": {
          "base_uri": "https://localhost:8080/"
        }
      },
      "source": [
        "sm = nn.Softmax(dim=1)\n",
        "sm_outputs = sm(outputs)\n",
        "print(sm_outputs)"
      ],
      "execution_count": 9,
      "outputs": [
        {
          "output_type": "stream",
          "text": [
            "tensor([[1.3280e-02, 1.5902e-03, 2.7124e-01, 2.9063e-01, 8.6877e-02, 9.4040e-02,\n",
            "         2.1869e-01, 3.8939e-03, 1.6884e-02, 2.8799e-03],\n",
            "        [6.7707e-02, 5.0846e-01, 2.7789e-04, 1.2803e-04, 1.3401e-05, 3.5267e-05,\n",
            "         3.9846e-05, 1.0954e-05, 3.6277e-01, 6.0555e-02],\n",
            "        [8.3978e-02, 4.5275e-01, 2.6707e-02, 1.9596e-02, 5.3134e-03, 1.2035e-02,\n",
            "         8.3272e-03, 7.1216e-03, 1.6723e-01, 2.1694e-01],\n",
            "        [6.6740e-01, 8.8904e-03, 4.2351e-02, 2.7307e-03, 3.4818e-03, 7.1935e-04,\n",
            "         1.0999e-03, 4.5694e-04, 2.6613e-01, 6.7382e-03]],\n",
            "       grad_fn=<SoftmaxBackward>)\n"
          ],
          "name": "stdout"
        }
      ]
    },
    {
      "cell_type": "code",
      "metadata": {
        "id": "tMbA9OGSC53-",
        "outputId": "961fa639-be4c-499a-e6e9-1ac56bba6845",
        "colab": {
          "base_uri": "https://localhost:8080/"
        }
      },
      "source": [
        "probs, index = torch.max(sm_outputs, dim=1)\n",
        "\n",
        "for p, i in zip(probs, index):\n",
        "    print('{0} - {1:.4f}'.format(classes[i], p))"
      ],
      "execution_count": 10,
      "outputs": [
        {
          "output_type": "stream",
          "text": [
            "cat - 0.2906\n",
            "car - 0.5085\n",
            "car - 0.4528\n",
            "plane - 0.6674\n"
          ],
          "name": "stdout"
        }
      ]
    },
    {
      "cell_type": "code",
      "metadata": {
        "id": "dd_a5-7FC-qN",
        "outputId": "8d82ba85-0e9a-46da-94de-471c958e0e13",
        "colab": {
          "base_uri": "https://localhost:8080/"
        }
      },
      "source": [
        "total_correct = 0\n",
        "total_images = 0\n",
        "confusion_matrix = np.zeros([10,10], int)\n",
        "with torch.no_grad():\n",
        "    for data in testloader:\n",
        "        images, labels = data\n",
        "        outputs = net(images)\n",
        "        _, predicted = torch.max(outputs.data, 1)\n",
        "        total_images += labels.size(0)\n",
        "        total_correct += (predicted == labels).sum().item()\n",
        "        for i, l in enumerate(labels):\n",
        "            confusion_matrix[l.item(), predicted[i].item()] += 1 \n",
        "\n",
        "model_accuracy = total_correct / total_images * 100\n",
        "print('Model accuracy on {0} test images: {1:.2f}%'.format(total_images, model_accuracy))"
      ],
      "execution_count": 11,
      "outputs": [
        {
          "output_type": "stream",
          "text": [
            "Model accuracy on 10000 test images: 56.69%\n"
          ],
          "name": "stdout"
        }
      ]
    },
    {
      "cell_type": "code",
      "metadata": {
        "id": "iIo0Aj8jDB_N",
        "outputId": "bd1767ab-c3a1-4cb8-d256-5aca0213be15",
        "colab": {
          "base_uri": "https://localhost:8080/"
        }
      },
      "source": [
        "print('{0:10s} - {1}'.format('Category','Accuracy'))\n",
        "for i, r in enumerate(confusion_matrix):\n",
        "    print('{0:10s} - {1:.1f}'.format(classes[i], r[i]/np.sum(r)*100))"
      ],
      "execution_count": 12,
      "outputs": [
        {
          "output_type": "stream",
          "text": [
            "Category   - Accuracy\n",
            "plane      - 63.4\n",
            "car        - 80.6\n",
            "bird       - 53.0\n",
            "cat        - 37.9\n",
            "deer       - 48.7\n",
            "dog        - 38.4\n",
            "frog       - 55.7\n",
            "horse      - 61.9\n",
            "ship       - 70.2\n",
            "truck      - 57.1\n"
          ],
          "name": "stdout"
        }
      ]
    },
    {
      "cell_type": "code",
      "metadata": {
        "id": "c8IESD8fDHws"
      },
      "source": [
        ""
      ],
      "execution_count": null,
      "outputs": []
    }
  ]
}