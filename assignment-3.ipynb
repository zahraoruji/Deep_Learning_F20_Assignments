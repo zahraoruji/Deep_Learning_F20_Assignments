{
 "cells": [
  {
   "cell_type": "markdown",
   "metadata": {},
   "source": [
    "# Assignment Set 3\n",
    "by Zahraoruji for Deep Learing Course at DataScience Center, SBU"
   ]
  },
  {
   "cell_type": "markdown",
   "metadata": {},
   "source": [
    "# Create three random tensors"
   ]
  },
  {
   "cell_type": "code",
   "execution_count": 31,
   "metadata": {},
   "outputs": [],
   "source": [
    "import torch\n",
    "import numpy as np\n",
    "import h5py"
   ]
  },
  {
   "cell_type": "code",
   "execution_count": 17,
   "metadata": {},
   "outputs": [
    {
     "name": "stdout",
     "output_type": "stream",
     "text": [
      "1.5.0+cpu\n"
     ]
    }
   ],
   "source": [
    "print(torch.__version__)"
   ]
  },
  {
   "cell_type": "code",
   "execution_count": 18,
   "metadata": {},
   "outputs": [
    {
     "name": "stdout",
     "output_type": "stream",
     "text": [
      "GPU Not Supported\n"
     ]
    }
   ],
   "source": [
    "if torch.cuda.is_available():\n",
    "    print(\"GPU Supported\")\n",
    "else:\n",
    "    print(\"GPU Not Supported\")"
   ]
  },
  {
   "cell_type": "code",
   "execution_count": 44,
   "metadata": {},
   "outputs": [
    {
     "data": {
      "text/plain": [
       "device(type='cuda', index=0)"
      ]
     },
     "execution_count": 44,
     "metadata": {},
     "output_type": "execute_result"
    }
   ],
   "source": [
    "device = torch.device(\"cuda:0\")\n",
    "device"
   ]
  },
  {
   "cell_type": "code",
   "execution_count": 67,
   "metadata": {},
   "outputs": [
    {
     "name": "stdout",
     "output_type": "stream",
     "text": [
      "tensor([[ 0.6975,  1.0072, -0.1742],\n",
      "        [ 1.3723,  0.4453,  1.2338],\n",
      "        [-0.3201,  0.9554,  0.9012]])\n",
      "torch.Size([3, 3])\n"
     ]
    }
   ],
   "source": [
    "a = torch.randn(3,3, dtype=torch.float,device=torch.device('cpu'))\n",
    "print(a)\n",
    "print(a.size())"
   ]
  },
  {
   "cell_type": "code",
   "execution_count": 68,
   "metadata": {},
   "outputs": [
    {
     "name": "stdout",
     "output_type": "stream",
     "text": [
      "tensor([[ 1.1114, -0.8001, -0.0872, -0.0722],\n",
      "        [ 1.5962,  0.4649,  1.4181, -1.9579],\n",
      "        [-0.1852, -0.7003,  0.0936,  0.3060],\n",
      "        [ 0.0346, -0.7378,  0.1696, -0.1747]], dtype=torch.float64)\n",
      "torch.Size([4, 4])\n"
     ]
    }
   ],
   "source": [
    "b = torch.randn(4,4, dtype=torch.double,device=torch.device('cpu'))\n",
    "print(b)\n",
    "print(b.size())"
   ]
  },
  {
   "cell_type": "code",
   "execution_count": 69,
   "metadata": {},
   "outputs": [
    {
     "name": "stdout",
     "output_type": "stream",
     "text": [
      "tensor([[[ -2,   7,  -5,   4],\n",
      "         [-10,   0,  -8,  -9],\n",
      "         [  8,   5,  -7,  -6]],\n",
      "\n",
      "        [[ -4,  -6,   7,   7],\n",
      "         [  1,   5,  -2,   4],\n",
      "         [  5,  -5,  -2,   0]],\n",
      "\n",
      "        [[  4,  -5,   6,   4],\n",
      "         [  7,  -4,  -5,   5],\n",
      "         [ -4,   7,   0,   1]],\n",
      "\n",
      "        [[ -9,  -9,  -7,   1],\n",
      "         [ -9,  -2,   1,  -1],\n",
      "         [  4,  -5,   3,   2]],\n",
      "\n",
      "        [[  1,  -6,   4,  -5],\n",
      "         [  0,   1,   3,   4],\n",
      "         [ -9,  -8,   4,   0]]], dtype=torch.int16)\n",
      "torch.Size([5, 3, 4])\n"
     ]
    }
   ],
   "source": [
    "d = torch.randint(-10,10,(5,3,4), dtype=torch.short,device=torch.device('cpu'))\n",
    "print(d)\n",
    "print(d.size())"
   ]
  },
  {
   "cell_type": "markdown",
   "metadata": {},
   "source": [
    "# Change tensor's elements\n",
    " Display the order of its elements and its transpose in the memory then use storage offset and contiguous"
   ]
  },
  {
   "cell_type": "code",
   "execution_count": 70,
   "metadata": {},
   "outputs": [],
   "source": [
    "a= a**3\n",
    "b= (2*b)+4\n",
    "d= d-3"
   ]
  },
  {
   "cell_type": "code",
   "execution_count": 71,
   "metadata": {},
   "outputs": [
    {
     "data": {
      "text/plain": [
       "tensor([[ 0.3393,  2.5843, -0.0328],\n",
       "        [ 1.0218,  0.0883,  0.8722],\n",
       "        [-0.0053,  1.8784,  0.7318]])"
      ]
     },
     "execution_count": 71,
     "metadata": {},
     "output_type": "execute_result"
    }
   ],
   "source": [
    "a_t=a.t()\n",
    "a_t"
   ]
  },
  {
   "cell_type": "code",
   "execution_count": 72,
   "metadata": {},
   "outputs": [
    {
     "data": {
      "text/plain": [
       "True"
      ]
     },
     "execution_count": 72,
     "metadata": {},
     "output_type": "execute_result"
    }
   ],
   "source": [
    "a.is_contiguous()"
   ]
  },
  {
   "cell_type": "code",
   "execution_count": 73,
   "metadata": {},
   "outputs": [
    {
     "data": {
      "text/plain": [
       " 0.3392784297466278\n",
       " 1.0217747688293457\n",
       " -0.005289955530315638\n",
       " 2.584341049194336\n",
       " 0.0883152037858963\n",
       " 1.8783886432647705\n",
       " -0.03278973698616028\n",
       " 0.8721926212310791\n",
       " 0.7318373918533325\n",
       "[torch.FloatStorage of size 9]"
      ]
     },
     "execution_count": 73,
     "metadata": {},
     "output_type": "execute_result"
    }
   ],
   "source": [
    "a.storage()"
   ]
  },
  {
   "cell_type": "code",
   "execution_count": 74,
   "metadata": {},
   "outputs": [
    {
     "data": {
      "text/plain": [
       "6"
      ]
     },
     "execution_count": 74,
     "metadata": {},
     "output_type": "execute_result"
    }
   ],
   "source": [
    "a[2].storage_offset()"
   ]
  },
  {
   "cell_type": "code",
   "execution_count": 75,
   "metadata": {},
   "outputs": [
    {
     "data": {
      "text/plain": [
       " 0.3392784297466278\n",
       " 1.0217747688293457\n",
       " -0.005289955530315638\n",
       " 2.584341049194336\n",
       " 0.0883152037858963\n",
       " 1.8783886432647705\n",
       " -0.03278973698616028\n",
       " 0.8721926212310791\n",
       " 0.7318373918533325\n",
       "[torch.FloatStorage of size 9]"
      ]
     },
     "execution_count": 75,
     "metadata": {},
     "output_type": "execute_result"
    }
   ],
   "source": [
    "a_t.storage()"
   ]
  },
  {
   "cell_type": "code",
   "execution_count": 76,
   "metadata": {},
   "outputs": [
    {
     "data": {
      "text/plain": [
       "5"
      ]
     },
     "execution_count": 76,
     "metadata": {},
     "output_type": "execute_result"
    }
   ],
   "source": [
    "a_t[2,1].storage_offset()"
   ]
  },
  {
   "cell_type": "code",
   "execution_count": 77,
   "metadata": {},
   "outputs": [
    {
     "data": {
      "text/plain": [
       "tensor([[6.2228, 7.1924, 3.6297, 4.0692],\n",
       "        [2.3999, 4.9298, 2.5995, 2.5244],\n",
       "        [3.8256, 6.8361, 4.1872, 4.3391],\n",
       "        [3.8556, 0.0843, 4.6119, 3.6506]], dtype=torch.float64)"
      ]
     },
     "execution_count": 77,
     "metadata": {},
     "output_type": "execute_result"
    }
   ],
   "source": [
    "b_t=b.t()\n",
    "b_t"
   ]
  },
  {
   "cell_type": "code",
   "execution_count": 78,
   "metadata": {},
   "outputs": [
    {
     "data": {
      "text/plain": [
       "True"
      ]
     },
     "execution_count": 78,
     "metadata": {},
     "output_type": "execute_result"
    }
   ],
   "source": [
    "b.is_contiguous()"
   ]
  },
  {
   "cell_type": "code",
   "execution_count": 79,
   "metadata": {},
   "outputs": [
    {
     "data": {
      "text/plain": [
       " 6.222784175446954\n",
       " 2.3998966919243596\n",
       " 3.825554166060477\n",
       " 3.8555514407751055\n",
       " 7.192376794766689\n",
       " 4.929793919117548\n",
       " 6.836137559564502\n",
       " 0.08428923805360355\n",
       " 3.6296627723191226\n",
       " 2.5994917388827052\n",
       " 4.187152182131989\n",
       " 4.611927890586502\n",
       " 4.069247598462094\n",
       " 2.5244345554267946\n",
       " 4.3391284385032165\n",
       " 3.650620733141104\n",
       "[torch.DoubleStorage of size 16]"
      ]
     },
     "execution_count": 79,
     "metadata": {},
     "output_type": "execute_result"
    }
   ],
   "source": [
    "b.storage()"
   ]
  },
  {
   "cell_type": "code",
   "execution_count": 81,
   "metadata": {},
   "outputs": [
    {
     "data": {
      "text/plain": [
       "12"
      ]
     },
     "execution_count": 81,
     "metadata": {},
     "output_type": "execute_result"
    }
   ],
   "source": [
    "b[3].storage_offset()"
   ]
  },
  {
   "cell_type": "code",
   "execution_count": 82,
   "metadata": {},
   "outputs": [
    {
     "data": {
      "text/plain": [
       " 6.222784175446954\n",
       " 2.3998966919243596\n",
       " 3.825554166060477\n",
       " 3.8555514407751055\n",
       " 7.192376794766689\n",
       " 4.929793919117548\n",
       " 6.836137559564502\n",
       " 0.08428923805360355\n",
       " 3.6296627723191226\n",
       " 2.5994917388827052\n",
       " 4.187152182131989\n",
       " 4.611927890586502\n",
       " 4.069247598462094\n",
       " 2.5244345554267946\n",
       " 4.3391284385032165\n",
       " 3.650620733141104\n",
       "[torch.DoubleStorage of size 16]"
      ]
     },
     "execution_count": 82,
     "metadata": {},
     "output_type": "execute_result"
    }
   ],
   "source": [
    "b_t.storage()"
   ]
  },
  {
   "cell_type": "code",
   "execution_count": 84,
   "metadata": {},
   "outputs": [
    {
     "data": {
      "text/plain": [
       "7"
      ]
     },
     "execution_count": 84,
     "metadata": {},
     "output_type": "execute_result"
    }
   ],
   "source": [
    "b_t[3,1].storage_offset()"
   ]
  },
  {
   "cell_type": "code",
   "execution_count": 87,
   "metadata": {},
   "outputs": [
    {
     "data": {
      "text/plain": [
       "tensor([[[ -5,  -7,   1, -12,  -2],\n",
       "         [-13,  -2,   4, -12,  -3],\n",
       "         [  5,   2,  -7,   1, -12]],\n",
       "\n",
       "        [[  4,  -9,  -8, -12,  -9],\n",
       "         [ -3,   2,  -7,  -5,  -2],\n",
       "         [  2,  -8,   4,  -8, -11]],\n",
       "\n",
       "        [[ -8,   4,   3, -10,   1],\n",
       "         [-11,  -5,  -8,  -2,   0],\n",
       "         [-10,  -5,  -3,   0,   1]],\n",
       "\n",
       "        [[  1,   4,   1,  -2,  -8],\n",
       "         [-12,   1,   2,  -4,   1],\n",
       "         [ -9,  -3,  -2,  -1,  -3]]], dtype=torch.int16)"
      ]
     },
     "execution_count": 87,
     "metadata": {},
     "output_type": "execute_result"
    }
   ],
   "source": [
    "d_t= d.transpose(0,2)\n",
    "d_t"
   ]
  },
  {
   "cell_type": "code",
   "execution_count": 88,
   "metadata": {},
   "outputs": [
    {
     "data": {
      "text/plain": [
       "True"
      ]
     },
     "execution_count": 88,
     "metadata": {},
     "output_type": "execute_result"
    }
   ],
   "source": [
    "d.is_contiguous()"
   ]
  },
  {
   "cell_type": "code",
   "execution_count": 89,
   "metadata": {},
   "outputs": [
    {
     "data": {
      "text/plain": [
       " -5\n",
       " 4\n",
       " -8\n",
       " 1\n",
       " -13\n",
       " -3\n",
       " -11\n",
       " -12\n",
       " 5\n",
       " 2\n",
       " -10\n",
       " -9\n",
       " -7\n",
       " -9\n",
       " 4\n",
       " 4\n",
       " -2\n",
       " 2\n",
       " -5\n",
       " 1\n",
       " 2\n",
       " -8\n",
       " -5\n",
       " -3\n",
       " 1\n",
       " -8\n",
       " 3\n",
       " 1\n",
       " 4\n",
       " -7\n",
       " -8\n",
       " 2\n",
       " -7\n",
       " 4\n",
       " -3\n",
       " -2\n",
       " -12\n",
       " -12\n",
       " -10\n",
       " -2\n",
       " -12\n",
       " -5\n",
       " -2\n",
       " -4\n",
       " 1\n",
       " -8\n",
       " 0\n",
       " -1\n",
       " -2\n",
       " -9\n",
       " 1\n",
       " -8\n",
       " -3\n",
       " -2\n",
       " 0\n",
       " 1\n",
       " -12\n",
       " -11\n",
       " 1\n",
       " -3\n",
       "[torch.ShortStorage of size 60]"
      ]
     },
     "execution_count": 89,
     "metadata": {},
     "output_type": "execute_result"
    }
   ],
   "source": [
    "d.storage()"
   ]
  },
  {
   "cell_type": "code",
   "execution_count": 91,
   "metadata": {},
   "outputs": [
    {
     "data": {
      "text/plain": [
       "36"
      ]
     },
     "execution_count": 91,
     "metadata": {},
     "output_type": "execute_result"
    }
   ],
   "source": [
    "d[3].storage_offset()"
   ]
  },
  {
   "cell_type": "code",
   "execution_count": 92,
   "metadata": {},
   "outputs": [
    {
     "data": {
      "text/plain": [
       " -5\n",
       " 4\n",
       " -8\n",
       " 1\n",
       " -13\n",
       " -3\n",
       " -11\n",
       " -12\n",
       " 5\n",
       " 2\n",
       " -10\n",
       " -9\n",
       " -7\n",
       " -9\n",
       " 4\n",
       " 4\n",
       " -2\n",
       " 2\n",
       " -5\n",
       " 1\n",
       " 2\n",
       " -8\n",
       " -5\n",
       " -3\n",
       " 1\n",
       " -8\n",
       " 3\n",
       " 1\n",
       " 4\n",
       " -7\n",
       " -8\n",
       " 2\n",
       " -7\n",
       " 4\n",
       " -3\n",
       " -2\n",
       " -12\n",
       " -12\n",
       " -10\n",
       " -2\n",
       " -12\n",
       " -5\n",
       " -2\n",
       " -4\n",
       " 1\n",
       " -8\n",
       " 0\n",
       " -1\n",
       " -2\n",
       " -9\n",
       " 1\n",
       " -8\n",
       " -3\n",
       " -2\n",
       " 0\n",
       " 1\n",
       " -12\n",
       " -11\n",
       " 1\n",
       " -3\n",
       "[torch.ShortStorage of size 60]"
      ]
     },
     "execution_count": 92,
     "metadata": {},
     "output_type": "execute_result"
    }
   ],
   "source": [
    "d_t.storage()"
   ]
  },
  {
   "cell_type": "code",
   "execution_count": 96,
   "metadata": {},
   "outputs": [
    {
     "data": {
      "text/plain": [
       "11"
      ]
     },
     "execution_count": 96,
     "metadata": {},
     "output_type": "execute_result"
    }
   ],
   "source": [
    "d_t[3,2].storage_offset()"
   ]
  },
  {
   "cell_type": "markdown",
   "metadata": {},
   "source": [
    "# Save and load tensors"
   ]
  },
  {
   "cell_type": "code",
   "execution_count": 97,
   "metadata": {},
   "outputs": [
    {
     "data": {
      "text/plain": [
       "array([[ 0.33927843,  1.0217748 , -0.00528996],\n",
       "       [ 2.584341  ,  0.0883152 ,  1.8783886 ],\n",
       "       [-0.03278974,  0.8721926 ,  0.7318374 ]], dtype=float32)"
      ]
     },
     "execution_count": 97,
     "metadata": {},
     "output_type": "execute_result"
    }
   ],
   "source": [
    "a_np= a.numpy()\n",
    "a_np"
   ]
  },
  {
   "cell_type": "code",
   "execution_count": 101,
   "metadata": {},
   "outputs": [
    {
     "data": {
      "text/plain": [
       "array([[6.22278418, 2.39989669, 3.82555417, 3.85555144],\n",
       "       [7.19237679, 4.92979392, 6.83613756, 0.08428924],\n",
       "       [3.62966277, 2.59949174, 4.18715218, 4.61192789],\n",
       "       [4.0692476 , 2.52443456, 4.33912844, 3.65062073]])"
      ]
     },
     "execution_count": 101,
     "metadata": {},
     "output_type": "execute_result"
    }
   ],
   "source": [
    "b_np= b.numpy()\n",
    "b_np"
   ]
  },
  {
   "cell_type": "code",
   "execution_count": 102,
   "metadata": {},
   "outputs": [
    {
     "data": {
      "text/plain": [
       "array([[[ -5,   4,  -8,   1],\n",
       "        [-13,  -3, -11, -12],\n",
       "        [  5,   2, -10,  -9]],\n",
       "\n",
       "       [[ -7,  -9,   4,   4],\n",
       "        [ -2,   2,  -5,   1],\n",
       "        [  2,  -8,  -5,  -3]],\n",
       "\n",
       "       [[  1,  -8,   3,   1],\n",
       "        [  4,  -7,  -8,   2],\n",
       "        [ -7,   4,  -3,  -2]],\n",
       "\n",
       "       [[-12, -12, -10,  -2],\n",
       "        [-12,  -5,  -2,  -4],\n",
       "        [  1,  -8,   0,  -1]],\n",
       "\n",
       "       [[ -2,  -9,   1,  -8],\n",
       "        [ -3,  -2,   0,   1],\n",
       "        [-12, -11,   1,  -3]]], dtype=int16)"
      ]
     },
     "execution_count": 102,
     "metadata": {},
     "output_type": "execute_result"
    }
   ],
   "source": [
    "d_np= d.numpy()\n",
    "d_np"
   ]
  },
  {
   "cell_type": "code",
   "execution_count": 103,
   "metadata": {},
   "outputs": [],
   "source": [
    "a= torch.from_numpy(a_np)"
   ]
  },
  {
   "cell_type": "code",
   "execution_count": 104,
   "metadata": {},
   "outputs": [],
   "source": [
    "b= torch.from_numpy(b_np)"
   ]
  },
  {
   "cell_type": "code",
   "execution_count": 105,
   "metadata": {},
   "outputs": [],
   "source": [
    "d= torch.from_numpy(d_np)"
   ]
  },
  {
   "cell_type": "code",
   "execution_count": 106,
   "metadata": {},
   "outputs": [],
   "source": [
    "torch.save(a,'adata.t' )\n",
    "torch.save(b,'bdata.t')\n",
    "torch.save(d,'ddata.t')"
   ]
  },
  {
   "cell_type": "code",
   "execution_count": 109,
   "metadata": {},
   "outputs": [],
   "source": [
    "with open('adata.t','wb') as f:\n",
    "    torch.save(a,f)"
   ]
  },
  {
   "cell_type": "code",
   "execution_count": 110,
   "metadata": {},
   "outputs": [],
   "source": [
    "with open('bdata.t','wb') as f:\n",
    "    torch.save(b,f)"
   ]
  },
  {
   "cell_type": "code",
   "execution_count": 111,
   "metadata": {},
   "outputs": [],
   "source": [
    "with open('ddata.t','wb') as f:\n",
    "    torch.save(d,f)"
   ]
  },
  {
   "cell_type": "code",
   "execution_count": 112,
   "metadata": {},
   "outputs": [],
   "source": [
    "a= torch.load('adata.t')"
   ]
  },
  {
   "cell_type": "code",
   "execution_count": 113,
   "metadata": {},
   "outputs": [],
   "source": [
    "b= torch.load('bdata.t')"
   ]
  },
  {
   "cell_type": "code",
   "execution_count": 114,
   "metadata": {},
   "outputs": [],
   "source": [
    "d= torch.load('ddata.t')"
   ]
  },
  {
   "cell_type": "code",
   "execution_count": 115,
   "metadata": {},
   "outputs": [],
   "source": [
    "with open('adata.t','rb') as f:\n",
    "    a=torch.load(f)"
   ]
  },
  {
   "cell_type": "code",
   "execution_count": 116,
   "metadata": {},
   "outputs": [],
   "source": [
    "with open('bdata.t','rb') as f:\n",
    "    b=torch.load(f)"
   ]
  },
  {
   "cell_type": "code",
   "execution_count": 122,
   "metadata": {},
   "outputs": [],
   "source": [
    "with open('ddata.t','rb') as f:\n",
    "    d=torch.load(f)"
   ]
  },
  {
   "cell_type": "code",
   "execution_count": 126,
   "metadata": {},
   "outputs": [],
   "source": [
    "import h5py\n",
    "\n",
    "f= h5py.File('adata.hdf5' , 'w')\n",
    "data_set=f.create_dataset('coords', data=a.numpy())"
   ]
  },
  {
   "cell_type": "code",
   "execution_count": 124,
   "metadata": {},
   "outputs": [],
   "source": [
    "f= h5py.File('bdata.hdf5' , 'w')\n",
    "data_set=f.create_dataset('coords', data=b.numpy())"
   ]
  },
  {
   "cell_type": "code",
   "execution_count": 125,
   "metadata": {},
   "outputs": [],
   "source": [
    "f= h5py.File('ddata.hdf5' , 'w')\n",
    "data_set=f.create_dataset('coords', data=d.numpy())"
   ]
  },
  {
   "cell_type": "code",
   "execution_count": 127,
   "metadata": {},
   "outputs": [],
   "source": [
    "f= h5py.File('adata.hdf5' , 'r')\n",
    "data_set=f['coords']"
   ]
  },
  {
   "cell_type": "code",
   "execution_count": 128,
   "metadata": {},
   "outputs": [],
   "source": [
    "f= h5py.File('bdata.hdf5' , 'r')\n",
    "data_set=f['coords']"
   ]
  },
  {
   "cell_type": "code",
   "execution_count": 129,
   "metadata": {},
   "outputs": [],
   "source": [
    "f= h5py.File('ddata.hdf5' , 'r')\n",
    "data_set=f['coords']"
   ]
  },
  {
   "cell_type": "markdown",
   "metadata": {},
   "source": [
    "# Autograd by the backward method"
   ]
  },
  {
   "cell_type": "code",
   "execution_count": 135,
   "metadata": {},
   "outputs": [],
   "source": [
    "a=torch.randn((3,3))"
   ]
  },
  {
   "cell_type": "code",
   "execution_count": 136,
   "metadata": {},
   "outputs": [],
   "source": [
    "b=torch.randn((3,3),requires_grad=True)"
   ]
  },
  {
   "cell_type": "code",
   "execution_count": 137,
   "metadata": {},
   "outputs": [
    {
     "data": {
      "text/plain": [
       "tensor([[ 0.1219, -0.8763,  0.9151],\n",
       "        [-1.3503, -0.8935,  0.1727],\n",
       "        [-0.7985, -1.1002, -1.5914]], grad_fn=<AddBackward0>)"
      ]
     },
     "execution_count": 137,
     "metadata": {},
     "output_type": "execute_result"
    }
   ],
   "source": [
    "S=a+b\n",
    "S"
   ]
  },
  {
   "cell_type": "code",
   "execution_count": 138,
   "metadata": {},
   "outputs": [
    {
     "data": {
      "text/plain": [
       "False"
      ]
     },
     "execution_count": 138,
     "metadata": {},
     "output_type": "execute_result"
    }
   ],
   "source": [
    "a.requires_grad"
   ]
  },
  {
   "cell_type": "code",
   "execution_count": 139,
   "metadata": {},
   "outputs": [
    {
     "data": {
      "text/plain": [
       "tensor([[ 0.2685, -1.1304,  2.1472],\n",
       "        [-3.1727, -1.4783,  1.3286],\n",
       "        [-0.4656, -4.3856, -3.4959]], grad_fn=<AddBackward0>)"
      ]
     },
     "execution_count": 139,
     "metadata": {},
     "output_type": "execute_result"
    }
   ],
   "source": [
    "P=2*a + 3*b\n",
    "P"
   ]
  },
  {
   "cell_type": "code",
   "execution_count": 140,
   "metadata": {},
   "outputs": [
    {
     "data": {
      "text/plain": [
       "True"
      ]
     },
     "execution_count": 140,
     "metadata": {},
     "output_type": "execute_result"
    }
   ],
   "source": [
    "b.requires_grad"
   ]
  },
  {
   "cell_type": "code",
   "execution_count": null,
   "metadata": {},
   "outputs": [],
   "source": []
  }
 ],
 "metadata": {
  "kernelspec": {
   "display_name": "Python 3",
   "language": "python",
   "name": "python3"
  },
  "language_info": {
   "codemirror_mode": {
    "name": "ipython",
    "version": 3
   },
   "file_extension": ".py",
   "mimetype": "text/x-python",
   "name": "python",
   "nbconvert_exporter": "python",
   "pygments_lexer": "ipython3",
   "version": "3.7.4"
  }
 },
 "nbformat": 4,
 "nbformat_minor": 2
}
