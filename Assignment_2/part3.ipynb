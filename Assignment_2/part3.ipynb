{
  "nbformat": 4,
  "nbformat_minor": 0,
  "metadata": {
    "colab": {
      "name": "part3.ipynb",
      "provenance": []
    },
    "kernelspec": {
      "name": "python3",
      "display_name": "Python 3"
    }
  },
  "cells": [
    {
      "cell_type": "code",
      "metadata": {
        "id": "pY_XJG06sd6D"
      },
      "source": [
        "import numpy as np"
      ],
      "execution_count": 1,
      "outputs": []
    },
    {
      "cell_type": "code",
      "metadata": {
        "id": "2Gig5deksfIR"
      },
      "source": [
        "# Defining activations\n",
        "def sigmoid(x):\n",
        "  y=1/(1 + np.exp(-x))\n",
        "  return y\n",
        "def tanh(x):\n",
        "  y=np.tanh(x)\n",
        "  return y\n",
        "def relu(x):\n",
        "  if x<0:\n",
        "    return 0\n",
        "  else:\n",
        "    return x"
      ],
      "execution_count": 2,
      "outputs": []
    },
    {
      "cell_type": "code",
      "metadata": {
        "id": "RYeUXWACsfNx"
      },
      "source": [
        "# A class for a layer\n",
        "class layer:   \n",
        "  def __init__(self, input_dim, out_dim, activation):\n",
        "    self.input_dim=input_dim\n",
        "    self.out_dim=out_dim   \n",
        "    self.w=[[np.random.randn() for i in range(self.input_dim)] for j in range(self.out_dim)]\n",
        "    self.b=[np.random.randn() for i in range(self.out_dim)]\n",
        "    if activation=='sigmoid':\n",
        "      self.activation=sigmoid\n",
        "    elif activation=='tanh':\n",
        "      self.activation=tanh\n",
        "    elif activation=='relu':\n",
        "      self.activation=relu\n",
        "    else:\n",
        "      print('The activation argument is not valid for this layer. Tanh is selected as default')\n",
        "      self.activation=tanh    \n",
        "  def forward(self, input):\n",
        "    output=[]\n",
        "    for i in range(self.out_dim):\n",
        "      neuron_input=0\n",
        "      for j in range(self.input_dim):\n",
        "        neuron_input += input[j]*self.w[i][j]\n",
        "      neuron_input += self.b[i]\n",
        "      output.append(self.activation(neuron_input))\n",
        "    return np.array(output)"
      ],
      "execution_count": 3,
      "outputs": []
    },
    {
      "cell_type": "code",
      "metadata": {
        "id": "Vx-XHlc5suCe"
      },
      "source": [
        "# A class for Neural Network\n",
        "class NN:\n",
        "  def __init__(self, layers_dimensions, activations):\n",
        "    self.layers_dimensions=layers_dimensions\n",
        "    self.activations=activations\n",
        "    self.layers=[]\n",
        "    for i in range (len(layers_dimensions)-1): # I assumed to have layers_dimensions[0] as input dimension \n",
        "      self.layers.append(layer(layers_dimensions[i],layers_dimensions[i+1],activations[i]))\n",
        "  def forward_pass(self, input):\n",
        "    hidden_state=input\n",
        "    for i in range (len(self.layers)):\n",
        "      hidden_state=self.layers[i].forward(hidden_state)\n",
        "    return hidden_state "
      ],
      "execution_count": 4,
      "outputs": []
    },
    {
      "cell_type": "code",
      "metadata": {
        "id": "h-OV4N3xsuUE",
        "outputId": "20b25268-6635-437f-9a26-af35b173a87f",
        "colab": {
          "base_uri": "https://localhost:8080/",
          "height": 34
        }
      },
      "source": [
        "# Testing activations\n",
        "print(sigmoid(-1),tanh(-1),relu(-1))"
      ],
      "execution_count": 5,
      "outputs": [
        {
          "output_type": "stream",
          "text": [
            "0.2689414213699951 -0.7615941559557649 0\n"
          ],
          "name": "stdout"
        }
      ]
    },
    {
      "cell_type": "code",
      "metadata": {
        "id": "HnUUJSimstx6",
        "outputId": "fe22fcd7-e345-4972-bbbe-3a2fc097d755",
        "colab": {
          "base_uri": "https://localhost:8080/",
          "height": 134
        }
      },
      "source": [
        "# Testing layer class\n",
        "test_layer=layer(10,30,'i')\n",
        "input1=np.random.randn(10)\n",
        "test_layer.forward(input1)"
      ],
      "execution_count": 6,
      "outputs": [
        {
          "output_type": "stream",
          "text": [
            "The activation argument is not valid for this layer. Tanh is selected as default\n"
          ],
          "name": "stdout"
        },
        {
          "output_type": "execute_result",
          "data": {
            "text/plain": [
              "array([ 0.81237633, -0.99755527,  0.99978102, -0.99999217, -0.98956293,\n",
              "        0.81627324,  0.17548029,  0.81404987, -0.48864242,  0.9994619 ,\n",
              "        0.99999841, -0.9999378 ,  0.9876283 , -0.95909656, -0.8674587 ,\n",
              "       -0.95939752, -0.81242342,  0.89787464, -0.99966699, -0.94961506,\n",
              "       -0.99989638, -0.999995  , -0.97918611,  0.8056575 , -0.99469209,\n",
              "       -0.95011171,  0.999998  , -0.99750007, -0.98165647, -0.98990963])"
            ]
          },
          "metadata": {
            "tags": []
          },
          "execution_count": 6
        }
      ]
    },
    {
      "cell_type": "code",
      "metadata": {
        "id": "bKIzTCSetBGj",
        "outputId": "41511536-2a72-4197-8603-03d676fd0705",
        "colab": {
          "base_uri": "https://localhost:8080/",
          "height": 70
        }
      },
      "source": [
        "print(test_layer.w[29],'\\n',test_layer.b[29])"
      ],
      "execution_count": 7,
      "outputs": [
        {
          "output_type": "stream",
          "text": [
            "[0.7815733401777468, 0.37008154657671377, 0.08544365024565807, 0.04292962558638935, -0.08788405686168385, 0.9600778480969017, -0.4481015080485241, 0.8523508374068819, 1.1503928291667729, 1.433433094615398] \n",
            " -0.26009645038937584\n"
          ],
          "name": "stdout"
        }
      ]
    },
    {
      "cell_type": "code",
      "metadata": {
        "id": "qenA4QMFtEQN",
        "outputId": "1d338b66-2547-44d8-eabf-bdaf5bb9176b",
        "colab": {
          "base_uri": "https://localhost:8080/",
          "height": 118
        }
      },
      "source": [
        "test_layer.b[29]=100\n",
        "test_layer.forward(input1)\n"
      ],
      "execution_count": 8,
      "outputs": [
        {
          "output_type": "execute_result",
          "data": {
            "text/plain": [
              "array([ 0.81237633, -0.99755527,  0.99978102, -0.99999217, -0.98956293,\n",
              "        0.81627324,  0.17548029,  0.81404987, -0.48864242,  0.9994619 ,\n",
              "        0.99999841, -0.9999378 ,  0.9876283 , -0.95909656, -0.8674587 ,\n",
              "       -0.95939752, -0.81242342,  0.89787464, -0.99966699, -0.94961506,\n",
              "       -0.99989638, -0.999995  , -0.97918611,  0.8056575 , -0.99469209,\n",
              "       -0.95011171,  0.999998  , -0.99750007, -0.98165647,  1.        ])"
            ]
          },
          "metadata": {
            "tags": []
          },
          "execution_count": 8
        }
      ]
    },
    {
      "cell_type": "code",
      "metadata": {
        "id": "QzYR_55NtGhC",
        "outputId": "c01d0d5f-7e0f-4be3-b4bc-439c2558e0ab",
        "colab": {
          "base_uri": "https://localhost:8080/",
          "height": 50
        }
      },
      "source": [
        "# Testing neural network class\n",
        "test_net=NN([5,10,15,20],['s','sigmoid','e'])"
      ],
      "execution_count": 9,
      "outputs": [
        {
          "output_type": "stream",
          "text": [
            "The activation argument is not valid for this layer. Tanh is selected as default\n",
            "The activation argument is not valid for this layer. Tanh is selected as default\n"
          ],
          "name": "stdout"
        }
      ]
    },
    {
      "cell_type": "code",
      "metadata": {
        "id": "4xoLxWOItJn8",
        "outputId": "e527e8ee-f8b2-4d14-a364-095fe9f44ac1",
        "colab": {
          "base_uri": "https://localhost:8080/",
          "height": 34
        }
      },
      "source": [
        "len(test_net.layers)"
      ],
      "execution_count": 10,
      "outputs": [
        {
          "output_type": "execute_result",
          "data": {
            "text/plain": [
              "3"
            ]
          },
          "metadata": {
            "tags": []
          },
          "execution_count": 10
        }
      ]
    },
    {
      "cell_type": "code",
      "metadata": {
        "id": "7JCi9olctJ-k",
        "outputId": "3548b737-fcd8-4e24-b919-0d8e9caae3d0",
        "colab": {
          "base_uri": "https://localhost:8080/",
          "height": 185
        }
      },
      "source": [
        "test_net.layers[1].w[1]"
      ],
      "execution_count": 11,
      "outputs": [
        {
          "output_type": "execute_result",
          "data": {
            "text/plain": [
              "[-2.342716675700261,\n",
              " -0.567324898147866,\n",
              " 2.046132156371193,\n",
              " -0.1588963939700445,\n",
              " -0.8985459975221752,\n",
              " -0.11447614776236689,\n",
              " 0.14288898394123295,\n",
              " -2.270046987624003,\n",
              " 0.4853219302479302,\n",
              " 0.3545077462626905]"
            ]
          },
          "metadata": {
            "tags": []
          },
          "execution_count": 11
        }
      ]
    },
    {
      "cell_type": "code",
      "metadata": {
        "id": "HtBftJXutJI5",
        "outputId": "9128543e-3061-4cd4-8f07-ae4fac8a4f92",
        "colab": {
          "base_uri": "https://localhost:8080/",
          "height": 84
        }
      },
      "source": [
        "input2=np.random.randn(10)\n",
        "input2\n",
        "test_net.forward_pass(input2)"
      ],
      "execution_count": 12,
      "outputs": [
        {
          "output_type": "execute_result",
          "data": {
            "text/plain": [
              "array([-0.99928397, -0.21761274,  0.99380241, -0.98532724, -0.99985002,\n",
              "        0.15658224,  0.80565478, -0.97395707, -0.71935005, -0.95288538,\n",
              "        0.11641608,  0.01124661,  0.98313825, -0.92282043,  0.99999857,\n",
              "       -0.97885275, -0.9298802 ,  0.94802987,  0.99815941,  0.99999922])"
            ]
          },
          "metadata": {
            "tags": []
          },
          "execution_count": 12
        }
      ]
    },
    {
      "cell_type": "code",
      "metadata": {
        "id": "tcm7KTQLtTlJ",
        "outputId": "9474c19a-7390-4416-b25f-524446b5b907",
        "colab": {
          "base_uri": "https://localhost:8080/",
          "height": 34
        }
      },
      "source": [
        "test_net.layers[2].b[19]=100\n",
        "test_net.layers[2].b[19]"
      ],
      "execution_count": 13,
      "outputs": [
        {
          "output_type": "execute_result",
          "data": {
            "text/plain": [
              "100"
            ]
          },
          "metadata": {
            "tags": []
          },
          "execution_count": 13
        }
      ]
    },
    {
      "cell_type": "code",
      "metadata": {
        "id": "3e_d06r3tWTp",
        "outputId": "0257be63-ed07-4c80-9339-bcc3057ef065",
        "colab": {
          "base_uri": "https://localhost:8080/",
          "height": 84
        }
      },
      "source": [
        "test_net.forward_pass(input2)"
      ],
      "execution_count": 14,
      "outputs": [
        {
          "output_type": "execute_result",
          "data": {
            "text/plain": [
              "array([-0.99928397, -0.21761274,  0.99380241, -0.98532724, -0.99985002,\n",
              "        0.15658224,  0.80565478, -0.97395707, -0.71935005, -0.95288538,\n",
              "        0.11641608,  0.01124661,  0.98313825, -0.92282043,  0.99999857,\n",
              "       -0.97885275, -0.9298802 ,  0.94802987,  0.99815941,  1.        ])"
            ]
          },
          "metadata": {
            "tags": []
          },
          "execution_count": 14
        }
      ]
    },
    {
      "cell_type": "code",
      "metadata": {
        "id": "BbjcfthltZXY",
        "outputId": "647663a6-36bb-4594-d0a9-2ae5038603bd",
        "colab": {
          "base_uri": "https://localhost:8080/",
          "height": 34
        }
      },
      "source": [
        "test_net.layers[2].w[18][14]=-1000\n",
        "test_net.layers[2].w[18][14]"
      ],
      "execution_count": 15,
      "outputs": [
        {
          "output_type": "execute_result",
          "data": {
            "text/plain": [
              "-1000"
            ]
          },
          "metadata": {
            "tags": []
          },
          "execution_count": 15
        }
      ]
    },
    {
      "cell_type": "code",
      "metadata": {
        "id": "NsP8DZ_3tbgD",
        "outputId": "b69afd8d-51bf-4780-a28d-d5fc3c1b3709",
        "colab": {
          "base_uri": "https://localhost:8080/",
          "height": 84
        }
      },
      "source": [
        "test_net.forward_pass(input2)"
      ],
      "execution_count": 16,
      "outputs": [
        {
          "output_type": "execute_result",
          "data": {
            "text/plain": [
              "array([-0.99928397, -0.21761274,  0.99380241, -0.98532724, -0.99985002,\n",
              "        0.15658224,  0.80565478, -0.97395707, -0.71935005, -0.95288538,\n",
              "        0.11641608,  0.01124661,  0.98313825, -0.92282043,  0.99999857,\n",
              "       -0.97885275, -0.9298802 ,  0.94802987, -1.        ,  1.        ])"
            ]
          },
          "metadata": {
            "tags": []
          },
          "execution_count": 16
        }
      ]
    },
    {
      "cell_type": "code",
      "metadata": {
        "id": "NhjBM6r9tfUO",
        "outputId": "537f6ee0-92c9-4203-a334-8462ce5da348",
        "colab": {
          "base_uri": "https://localhost:8080/",
          "height": 34
        }
      },
      "source": [
        "test_net.layers[0].w[9][4]=-1000\n",
        "test_net.layers[0].w[9][4]"
      ],
      "execution_count": 17,
      "outputs": [
        {
          "output_type": "execute_result",
          "data": {
            "text/plain": [
              "-1000"
            ]
          },
          "metadata": {
            "tags": []
          },
          "execution_count": 17
        }
      ]
    },
    {
      "cell_type": "code",
      "metadata": {
        "id": "00BBqZQutigA",
        "outputId": "3fecb6d4-f093-4aaa-81d2-6f72f426b739",
        "colab": {
          "base_uri": "https://localhost:8080/",
          "height": 84
        }
      },
      "source": [
        "test_net.forward_pass(input2)"
      ],
      "execution_count": 18,
      "outputs": [
        {
          "output_type": "execute_result",
          "data": {
            "text/plain": [
              "array([-0.99930449, -0.26676483,  0.99371796, -0.98511023, -0.99987051,\n",
              "        0.16127382,  0.80287796, -0.97925283, -0.74463802, -0.95468417,\n",
              "        0.2133701 ,  0.00892214,  0.98268101, -0.90284978,  0.99999859,\n",
              "       -0.97438637, -0.92909706,  0.93244979, -1.        ,  1.        ])"
            ]
          },
          "metadata": {
            "tags": []
          },
          "execution_count": 18
        }
      ]
    },
    {
      "cell_type": "code",
      "metadata": {
        "id": "eMjmNlYgtlVY",
        "outputId": "a516e858-1683-4068-a0b6-fd9ad484934e",
        "colab": {
          "base_uri": "https://localhost:8080/",
          "height": 437
        }
      },
      "source": [
        "test_layers=np.random.randint(10, high=100, size=201)\n",
        "print(test_layers)\n",
        "test_activations= ['tanh' for i in range(200)]\n",
        "test_deep_net=NN(test_layers,test_activations)\n",
        "print('\\n',len(test_deep_net.layers),'\\n')\n",
        "test_deep_net.forward_pass(np.random.randn(test_layers[0]))"
      ],
      "execution_count": 19,
      "outputs": [
        {
          "output_type": "stream",
          "text": [
            "[23 58 75 32 66 59 54 75 41 94 87 24 88 87 74 80 68 15 58 19 70 39 82 78\n",
            " 87 72 13 36 15 10 31 71 82 23 22 44 74 59 52 23 26 62 46 80 24 97 17 71\n",
            " 55 14 23 80 50 86 88 42 34 73 95 18 61 94 40 87 95 16 60 37 98 67 45 92\n",
            " 53 26 60 63 47 66 91 16 96 79 40 51 63 71 80 57 98 87 40 59 44 10 67 83\n",
            " 90 24 14 53 64 85 26 36 52 50 39 65 10 34 80 52 54 63 82 52 44 81 98 60\n",
            " 93 59 61 75 74 52 89 50 99 58 67 17 24 17 79 89 22 57 64 47 28 15 78 44\n",
            " 23 34 78 51 37 64 50 33 94 74 83 79 62 99 31 52 94 88 37 83 83 78 81 89\n",
            " 72 66 70 21 99 28 70 79 10 38 21 62 93 19 86 33 26 65 44 38 90 57 10 51\n",
            " 97 27 94 57 22 35 80 33 65]\n",
            "\n",
            " 200 \n",
            "\n"
          ],
          "name": "stdout"
        },
        {
          "output_type": "execute_result",
          "data": {
            "text/plain": [
              "array([-0.99657301,  0.80488743, -0.99988648, -0.99999674,  0.95027357,\n",
              "        1.        , -1.        ,  0.79356458,  0.99996495, -1.        ,\n",
              "        0.99996455, -0.34400801, -0.99999999, -0.99999524,  0.87325889,\n",
              "        0.96406255,  0.49552371,  0.99968561,  0.99421736, -0.99791981,\n",
              "       -0.99989938, -0.99987545, -0.999736  ,  0.99342776, -0.67808552,\n",
              "        0.99965026,  0.99999988,  0.99925895,  0.87966464,  1.        ,\n",
              "        0.99789924,  0.99999555, -0.90634239, -0.99999977,  0.99909134,\n",
              "        0.9999958 ,  0.99999429,  0.91457282,  0.08796705,  0.99999958,\n",
              "       -0.56916935, -0.12142966,  0.99996891,  0.99988555, -0.99999987,\n",
              "       -0.88246421,  0.20125054,  0.99869651,  0.93584334,  0.97201088,\n",
              "       -0.68177168, -0.99057847,  0.99999434,  0.79401085, -0.97994828,\n",
              "       -0.99256487, -0.99984967,  0.99937469, -0.92364935, -1.        ,\n",
              "        0.9855895 , -0.30151311,  0.99982884, -0.99999531,  0.99999939])"
            ]
          },
          "metadata": {
            "tags": []
          },
          "execution_count": 19
        }
      ]
    },
    {
      "cell_type": "code",
      "metadata": {
        "id": "hUetQWXYtnXd",
        "outputId": "ebb450ab-0489-44ba-ced6-69731f0dcbb7",
        "colab": {
          "base_uri": "https://localhost:8080/",
          "height": 235
        }
      },
      "source": [
        "test_layers=np.random.randint(10, high=100, size=51)\n",
        "print(test_layers)\n",
        "test_activations= ['tanh' for i in range(50)]\n",
        "test_deep_net=NN(test_layers,test_activations)\n",
        "print('\\n',len(test_deep_net.layers),'\\n')\n",
        "test_deep_net.forward_pass(np.random.randn(test_layers[0]))"
      ],
      "execution_count": 20,
      "outputs": [
        {
          "output_type": "stream",
          "text": [
            "[32 44 17 13 97 16 72 14 90 38 81 89 20 55 73 56 91 30 84 76 74 24 13 16\n",
            " 41 46 94 89 49 90 71 86 79 21 90 61 84 22 90 13 56 36 19 73 75 82 38 63\n",
            " 79 63 32]\n",
            "\n",
            " 50 \n",
            "\n"
          ],
          "name": "stdout"
        },
        {
          "output_type": "execute_result",
          "data": {
            "text/plain": [
              "array([-1.        ,  0.99999879,  1.        ,  0.99989838,  1.        ,\n",
              "        0.75276082, -0.88704213, -0.99987549,  0.99999998,  0.99999979,\n",
              "       -0.99999872, -1.        , -0.99904891,  0.98399826,  0.99985719,\n",
              "        1.        , -0.99999599, -0.9999966 ,  0.99996549, -0.99984788,\n",
              "        0.99736432, -0.99999951,  0.71981843,  1.        , -0.99360626,\n",
              "       -1.        , -0.99996895, -0.99738361,  1.        ,  0.7906767 ,\n",
              "       -0.53788028, -0.62340219])"
            ]
          },
          "metadata": {
            "tags": []
          },
          "execution_count": 20
        }
      ]
    },
    {
      "cell_type": "code",
      "metadata": {
        "id": "meLTjHp6tp3A"
      },
      "source": [
        ""
      ],
      "execution_count": null,
      "outputs": []
    }
  ]
}